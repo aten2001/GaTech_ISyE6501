{
 "cells": [
  {
   "cell_type": "markdown",
   "metadata": {},
   "source": [
    "# HW 13"
   ]
  },
  {
   "cell_type": "markdown",
   "metadata": {},
   "source": [
    "## Question 19.1\n",
    "\n",
    "In this answer, we propose a two-stage method for the identification of the target effects and the optimization of shelf space in a retail store. These are:\n",
    "\n",
    "*Step 1.*\n",
    "- Goal: Choice of products to be showcased.\n",
    "- Input(s): Third-party consumer data, store-level consumer data, consumer surveys, expert advice.\n",
    "- Output(s): for each good and service potentially offered by the retailer, price, frequency, and demographics of consumption.\n",
    "- Analytics tool(s): descriptive statistics, analysis of variance (ANOVA), exponential smoothing, linear optimization.\n",
    "\n",
    "*Step 2.*\n",
    "- Goal: Choice of shelf position for the chosen products.\n",
    "- Input(s): Products chosen in step 1), expert advice, literature survey of marketing research.\n",
    "- Output(s): for each good to be showcased in a given day, revenue multiplier associated with each given shelf position.\n",
    "- Analytics tool(s): Design of Experiments (DOE), factorial designs, linear optimization.\n"
   ]
  },
  {
   "cell_type": "markdown",
   "metadata": {},
   "source": [
    "### Step 1\n",
    "\n",
    "The goal of this first step is to determine the products that will be showcased at any given day. A quick aside before moving on: marketing research suggests that moving products around each single day might not be welcomed positively by consumers. As consumers, we do not want to walk in our preferred shop and reach out to the third isle to grab our can of Coca Cola only to find out that carbonated beverages were moved three isles down. Therefore, retailers might need to showcase their products somewhat consistently although there exist substantial between- and within-day variations in consumer behaviors. This is a quite interesting research question but is tangential to the scope of the current assignment, so we just want to mention that it exists.\n",
    "The retailer has S amount of space that she can use, and needs to choose products from a portfolio of goods i={1,,n}. Each product is associated with a min and max shelf space that it can take, let’s label these a_i and b_i. Her problem is defined by the following linear model:\n",
    "\n",
    "$$ \\max \\sum_{i=1}^{n} x_i \\cdot revenue/day_i\\\\\n",
    "s.t.\\\\\n",
    "1) \\, a_i \\leq x_i \\leq b_i; \\; 2) \\, \\sum_{i=1}^{n} \\leq S; \\; 3) \\, \\forall x_i \\, nonnegative$$\n",
    "\n",
    "The second constraint is only marginally accurate. In fact, the unit of measurement of shelf space is cubic inches whereas $x_i$ represents units of a given product. A mathematical transformation is therefore necessary, but we want to keep things simple so once more we will limit ourselves to acknowledge the problem.\n",
    "The coefficient $revenue/day_i$ associated with the decision variables $x_i$ represents the quantity of product $i$ to be showcased and is not yet known. Therefore, it needs be estimated. We argue that three dimensions concur in determining $revenue/day_i$: frequency of purchase, amount the purchase is worth net of costs to the retailer, and demographics of the purchase. It is believable that the dollar value of an iPhone purchase is much larger than the dollar value of a purchase of a loaf of bread; however, we buy bread almost every day while we only update our iPhone once in three or four years. Therefore, $revenue/day_{iPhone}$ might be substantially smaller than $revenue/day_{bread}$ despite a much higher price point for iPhones.\n",
    "The third dimension which is key to our decision is customer demographics. Clearly, iPhones attract very specific buyer’s profiles captured by income, age, education, employment, and other relevant characteristics. In other words, only a given fraction of the population buys iPhones (we are not sure our grandparents even know what iPhones are). Factoring in the three dimensions, the expected $revenue/day_i$ of an item $i$ is given by the expression:\n",
    "\n",
    "$$ revenue/day_i = p(i) \\cdot f(i) \\cdot r(i)$$\n",
    "\n",
    "where $p(i)$ is the percentage of the population that buys item $i$, $f(i)$ is frequency of the purchase, and $r(i)$ is the revenue from selling $i$. Let’s say that the revenue from an iPhone sale are $\\$400$, that $25\\%$ of the population buys iPhones, and that they buy an average of one iPhone every three years. The $revenue/day_i$ of an iPhone is:\n",
    "\n",
    "$$ revenue/day_{iPhone} = \\frac{0.25 \\cdot \\$400}{1095} \\approx \\$0.09 $$\n",
    "\n",
    "For bread, assume that the average consumer buys one loaf every other day, that the loaf secures revenues of $2 and that 75% of the population consumes bread. Then:\n",
    "\n",
    "$$ revenue/day_{bread} = \\frac{0.75 \\cdot \\$2}{2} \\approx \\$0.75 $$\n",
    "\n",
    "Clearly, a rational retailer would use shelf space to showcase loaves of bread rather than iPhones.\n",
    "Moving to the data requirements, which is the focus of this assignment, we anticipated that either one of consumer censuses, consumer surveys, expert advice, and store-level consumer records might be used. Actually, a combination of the four might be ideal. Consumer censuses such as the <a href=\"https://www.bls.gov/cex/\">Consumer Expenditure Survey</a> provide granular data on consumer choices in the US together with a wealth of demographic and socio-economic details. Also, they inform us what, when, and how much of the most important goods and services consumers buy. The limitation of consumer censuses is that they do not forecast future trends, therefore it might be helpful to integrate this data with sentiment data from one of the many customer surveys available. Expert consultation can provide further guidance in the case where new products are launched or new trends in consumption are picking up.\n",
    "Before even going into this data, the retailer might want to use her own records. A good way for retailers to know more on their customers is that of offering fidelity cards that require clients to input some of their demographics and/or take part in brief interviews. It might well be that the demographics of a given store depart substantially from the demographics of the general population, in which case third party data might be misleading. Clearly, it makes little sense to shelve expensive items if the bulk of the customers attending our premise is low-income.\n",
    "After the datawork has been completed, the retailers will be able to generate a spreadsheet which reports, for any potential item, unit revenues, the share of the customer base that buys the item, and how often they buy it. Actually, the ideal would be for the retailer to have seven replications of for each item, one for each day of the week. This does not mean that seven distinctive data points need be gathered for revenues, frequency, and population share, but that weights should be placed on each day of the week. Much like the other data, this information can be derived from either one of the third-party resources mentioned before. In the case where daily sales data are available, analytics models such as analysis of variance (ANOVA) or exponential smoothing can be used to determine how much weekly volatility there is in the sales of a given product. Based on those, weights for each day of the week can be generated."
   ]
  },
  {
   "cell_type": "markdown",
   "metadata": {},
   "source": [
    "### Step 2\n",
    "\n",
    "The second step is about allocating the chosen items across isles and shelves in the shop. Please note that step 1 guarantees that total shelf space is not exceeded, so we will not need to enforce this constraint again in this step. \n",
    "The second step envisions an optimization problem which can be written down fairly easily. The objective is that of maximizing revenues associated with each combination $z_ijk$ of a product $i$ and shelf space $j$ jointly with an indicator $k$ for whether the product is placed next to a complement (e.g. ketchup next to burgers). This is an integer problem because the decision variables take on either 1s or 0s. More formally, the objective function is the sum of the binary decision variables $z_ijk$ multiplied by a revenue multiplicator $\\lambda_j$ associated with each shelf position $j$:\n",
    "\n",
    "$$ \\max_{z_{ijk}} \\sum_{i=1}^{n} z_{ijk} \\cdot \\lambda_j $$\n",
    "\n",
    "This will be illustrated later by way of an example, but we need to address constraints first. These are:\n",
    "\n",
    "1. each product can only be assigned to at least one and at most one shelf position;\n",
    "2. either one of  $z_{ijk}=0$ or $z_{ijk}=1$ can be true but not both at the same time (i.e. a product cannot be placed next to its complement and not being placed next to its complement at the same time);\\*\n",
    "3. a product cannot be placed next to its complement without the complement being also placed next to the product;\\**\n",
    "4. integerality;\n",
    "5. nonnegativity.\n",
    "\n",
    "We put asterisks on constraints 2) and 3) because these are logical necessities which happen to be rather complex to deal with mathematically. A solution is that of creating indicator variables for the positions j, and declare which of the js are adjacent by imposing logical statements on them. A second issue is that the problem grows exponentially more complex when each product has more than one complement. This is the reason why we used the singular “complement”: we did not want to give way to a hoard of mathematical complications and therefore assumed that each given product has at most one complement.\n",
    "Moving on, we need to define what we mean by “revenue multiplier” $\\lambda_j$. This is quite simple as a concept: a revenue multiplier of one (i.e. $\\lambda_j$=1) implies that the revenue generated by a product are the same as the $revenue/day_i$ calculated in step 1. A multiplier less than 1 (i.e. $\\lambda_j$<1) means that the expected revenues are lower than the expected $revenue/day_i$ calculated before, and a multiplier greater than 1 (i.e. $\\lambda_j$>1) means that they exceed them.\n",
    "The above can be condensed down in a quite nice example. Let’s suppose that a retailer has one product and three shelf positions, high, medium, and low. The revenue multiplier for the high position is 1 while the multipliers for the medium and low positions are 1.25 and 0.65 respectively. Clearly, the retailer would want to showcase the product in the medium shelf. This is a simplistic case which does not apply nicely to real-world retailers. However, it gives us a hint on what analytics model we might use to establish which shelves are best. We suggest using Designs of Experiment (DOE) where the controllable factors are the available shelf destinations. Clearly, we don’t want to manipulate more than one factor at a time because we would not be able to identify the target effects. To illustrate our argument, let’s imagine that we want to compare scenario A) in which a given item, say burgers, is showcased in a high shelf with scenario B) in which burgers are showcased in a low shelf. Clearly, we need to make sure that the comparison is an “all else being equal”, that is, one in which the experimental factor is the only variable that changes. We don’t want, say, burgers to be placed next to ketchup in scenario A) and next to clothing items in scenario B) because this would “confound” the target effect with some other factor.\n",
    "We are not yet done. Other than making sure that we are not biasing experimental results by adding confounders, we need to ensure that the most important uncontrollable factors are accounted for. For instance, we might want to test scenarios A) and B) across different experimental setups, such as mornings vs afternoons, rush hour vs off peak, and so on. Expert advice from experienced marketers as well as guidance from existing literature might come handy to identify the most important uncontrollable factors that should be blocked.\n",
    "Lastly, we suggest to leverage the power of DOEs with the use of factorial designs. Much like the assignment in which we created a factorial design for a realtor selling different types of houses, we can factor out the most important characteristics that drive sales. In the video, it is suggested that placing products next to their complements (e.g. burgers next to ketchup) might have an impact on sales. An example of a factorial design that can be fed into an experimental design would therefore be:\n",
    "\n",
    "i. Burgers in low shelf next to ketchup;\n",
    "ii.\tBurgers in medium shelf next to ketchup;\n",
    "iii. Burgers in high shelf next to ketchup;\n",
    "iv.\tBurgers in low shelf next to detergents;\n",
    "v. Burgers in medium shelf next to detergents;\n",
    "vi. etc.\n",
    "\n",
    "The outcome measure for the experiment is sales, and a p-value type of test (e.g. t-test for differences of means) will be used. If revenues across two different specifications of the experiment differ by chance only (i.e. p-value>$\\alpha$), we would stick with the null hypothesis that it does not make a better difference which shelf space we use. If the test is indeed significant (i.e. p-value<$\\alpha$), it would mean that one of the alternatives is better and should therefore be chosen to increase sales.\n",
    "A similar combination of factorial designs and DOEs can be used to test the other hypotheses raised in the video, that is, whether an increase in shelf space associates with an increase in revenues, and whether an increase in revenues from a product associates with an increase in revenues from complements.\n",
    "One last note. This method is quite time-consuming and expensive to be iterated by an individual retailer, so our main suggestion as analytics professionals is that of looking at existing marketing research and finding studies that performed similar experiments. Once more, expert advice from a marketing specialist comes very handy and can help the retailer cut down on unnecessary experimentation."
   ]
  }
 ],
 "metadata": {
  "kernelspec": {
   "display_name": "Python 3",
   "language": "python",
   "name": "python3"
  },
  "language_info": {
   "codemirror_mode": {
    "name": "ipython",
    "version": 3
   },
   "file_extension": ".py",
   "mimetype": "text/x-python",
   "name": "python",
   "nbconvert_exporter": "python",
   "pygments_lexer": "ipython3",
   "version": "3.7.4"
  }
 },
 "nbformat": 4,
 "nbformat_minor": 2
}
