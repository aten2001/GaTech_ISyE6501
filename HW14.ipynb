{
 "cells": [
  {
   "cell_type": "markdown",
   "metadata": {},
   "source": [
    "# HW 14"
   ]
  },
  {
   "cell_type": "markdown",
   "metadata": {},
   "source": [
    "## Question 20.1"
   ]
  },
  {
   "cell_type": "markdown",
   "metadata": {},
   "source": [
    "In this answer, we propose some ways in which the data can be monetized using analytics models.\n",
    "\n",
    "### Example 1\n",
    "\n",
    "- Type: customer segmentation\n",
    "- Application: marketing\n",
    "- Clients: companies, marketing agencies\n",
    "- Analytics models: k-means clustering\n",
    "- Datasets: 2 (3 optional)\n",
    "\n",
    "In marketing, determining disposable income after tax payments and purchases of necessities is the first step towards segmenting customers. Clearly, only customers that have substantial earnings are able to afford luxury cars. In marketing theory, disposable income is known as a \"qualifying dimension\", a dimension that a customer needs to fulfill to qualify for a purchase. Qualifying dimensions are different from \"determining dimensions\" in that the latter determine whether qualified customers will eventually purchase a good/service. For example, having substantial income is a qualifying condition for the purchase of expensive cars but does not necessarily dictate this kind of purchase. Therefore, one straightforward implementation of the data is to use monthly payment history (dataset 2) to determine the candidates (first name, last name) that will be exposed to certain ads. This does not require complex analytics models and is easily done using descriptive statistics.\n",
    "More sophisticated models are needed for clustering customers into market segments. In the marketing section of the Management class offered in the MS in Analytics, we learned that the primary objectives of marketers are those of *i)* determining niches of consumers that are sufficiently homogenous, and *ii)* singling out the most important dimensions along which customers are effectively homogenous. Dataset 2 (3 optional) can be used to perform k-means clustering and divide up the customer base into homogenous groups.\n",
    "A fundamental property of the algorithm is flexibility. The analyst has control over how many groups will be reserved for clustering, which is often times a necessity for marketing. If the company’s management decides that funds will only be sufficient for three distinct marketing campaigns, marketers will impose three-means clustering and subset observations into three groups.\n",
    "Furthermore, k-means clustering allows to estimate the contribution of each dimension to the group assignment thus enabling marketers to identify the attributes that really matter, being sex, age, location, or whatever they might be."
   ]
  },
  {
   "cell_type": "markdown",
   "metadata": {},
   "source": [
    "### Example 2\n",
    "\n",
    "- Type: product diversification\n",
    "- Application: marketing\n",
    "- Clients: companies\n",
    "- Analytics models: PCA, Lasso, Elastic Net, Ridge\n",
    "- Datasets: 1,2\n",
    "\n",
    "One important challenge that marketers share with analytics professionals is dimensionality reduction. Clearly, it is impossible to satisfy the wants of each client nor it is financially efficient to do so. Arguably, the second most important step for marketers after segmentation is diversification of the company’s offerings, which entails the identification of the combination of characteristics that maximize the market share and/or revenues. One tool that marketers often use is perceptual mapping, which we exemplify in Figure 1). In the case of the athletic footwear market, it turns out that the two most important dimensions for diversification are cost (cheap vs expensive) and type of use (performance vs fashion). Definitely, marketers used some kind of dimensionality reduction algorithm, something which we can do using our data sets 1 and 2.\n",
    "Principal Component Analysis (PCA) creates linear combinations of the input data, and only a few are typically necessary to explain the bulk of the variation in the data (one quick-and-dirty rule is Kaiser’s eigenvalue rule).\n",
    "\n",
    "<a href=\"https://www.jsbmarketresearch.com/blog/wp-content/uploads/2019/11/market-map.jpg\">\n",
    "<img alt=\"Footwear – Perceptual Mapping\" src=\"https://www.jsbmarketresearch.com/blog/wp-content/uploads/2019/11/market-map.jpg\" width=\"500\">\n",
    "</a>\n",
    "\n",
    "What is extremely helpful with PCA is that the contribution of each factor to one individual component (i.e. factor loading) is presented in the output, and components can be given a meaningful interpretation (not all the times, but most times). In undergraduate statistics courses, a usual homework question requires students to come up with description for the PCs, and this is exactly what marketers do at much higher financial stakes. As an example, a PC that loads heavily on number of dependents and marital status suggests that single vs family-oriented is a potential diversification dimension.\n",
    "An alternative to the use of PCA are Lasso, Elastic Net, and Ridge Regression using the binary variables for types of hobbies as a response. To give an example, a company operating in the fitness industry is very much interested in what the predictors for the interest in bodybuilding (calisthenics, boxing, etc.) are. However, it only wants a \"few\" important factors, else it would have no clue what attributes to center its marketing. Lasso regression is a feature-reduction algorithm that removes regressors originally specified in the predictive equation for the outcome of interest. The caveat with Lasso is that factors that are highly correlated are arbitrarily selected leading to unwarranted decisions. Therefore, marketers might use Ridge regression to shrink the coefficients towards zero and select only those that explain enough variation (how much is “enough” is up to marketers to decide). Elastic Net is a middle-ground solution which might be considered."
   ]
  },
  {
   "cell_type": "markdown",
   "metadata": {},
   "source": [
    "### Example 3\n",
    "\n",
    "- Type: determining a product usage distribution\n",
    "- Application: marketing\n",
    "- Clients: companies\n",
    "- Analytics models: Statistical distributions, (covariate models optional)\n",
    "- Datasets: 3 (1, 2 optional for covariate models)\n",
    "\n",
    "Companies that produce disposable products are interested in re-purchases much more they are on purchases. Clearly, selling one can of Coca Cola brings little value to the Coca Cola business; however, multiple purchases of cans and the creation of loyal customers bring a lot of value.\n",
    "One possible use of the data is suggested by the variable included in data set 3 “list of products purchased in the past, with date of purchase and ship-to address”. For a given product j, and conditioning on the subset of customers that purchased the product j at least once during the available time-frame, the data analysts of the company will derive a frequency distribution for purchases. The distribution will tell what percentage of customers did three re-purchases, five re-purchases, and so forth, thus answering questions such as: “what is the probability of a customer re-purchasing the product x times?”. To give an example, if the distribution of re-purchases for a product is normal with a mean of 5, a company might well want to investigate why re-purchases taper down off at 5, and re-cast its marketing to push the mean a little bit further.\n",
    "A more sophisticated approach that can be used on top of statistical distributions is covariate models. Covariate models allow to express the parameters of a distribution as a function of chosen customer characteristics, which can be derived from data set 1 and 2. This way, even better estimate can be generated."
   ]
  },
  {
   "cell_type": "markdown",
   "metadata": {},
   "source": [
    "### Example 4\n",
    "\n",
    "- Type: determining webpage access/querying (1)\n",
    "- Application: marketing\n",
    "- Clients: companies, individuals (e.g. freelancers, influencers, etc.)\n",
    "- Analytics models: logistic regression\n",
    "- Datasets: 1,2,3\n",
    " \n",
    "The two pieces of data that we will consider for this strategy are “which web pages the person looked at” and “what the person clicked on each page” in data set 3. The first outcome is clearly binary while the second outcome can be dummified (i.e. reduced to a clicked/did not click response). Therefore, the analytics method of choice is classification, and, specifically, logistic regression. The objective is to single out the most important predictors of looking/clicking on particular web pages, which can be extremely valuable to companies as well as individuals. For instance, a freelance therapist might be interested in knowing what the predictors that govern accesses to her personal website are. Based on these insights, she can fine-tune the layout, appearance, and communication of the website to the target audience.\n",
    "The same therapist might also be interested to know what predicts clicks on the “Booking an appointment” tab. This information can be obtained by running a logistic regression on the subset of consumers that looked at the webpage whether they followed the link or not (and excluding customers who never browsed the page). As a matter of fact, the line is very fine when it comes to consuming information online versus taking action and purchasing services, and it might well be that some characteristics that are not predictive of the first response are very much so of the second response. In the case of our therapist, it can be that geography does not matter when it comes to accessing her webpage, but it does matter for eventually reaching out to book an appointment. If that is the case, the therapist might consider offering online counseling and making very clear that the quality of the online sessions aligns with that offered to in-person patients."
   ]
  },
  {
   "cell_type": "markdown",
   "metadata": {},
   "source": [
    "### Example 5\n",
    "\n",
    "- Type: determining webpage access/querying (2)\n",
    "- Application: marketing\n",
    "- Clients: companies, individuals (e.g. freelancers, influencers, etc.)\n",
    "- Analytics models: regression\n",
    "- Datasets: 1,2,3\n",
    "\n",
    "These outcomes are similar to those described above with the difference that they are continuous rather than dichotomous. For this reason, linear regression should be used with time spent on each webpage as the dependent variable"
   ]
  },
  {
   "cell_type": "markdown",
   "metadata": {},
   "source": [
    "### Example 6\n",
    "\n",
    "- Type: college return on investment (ROI)\n",
    "- Application: higher education market\n",
    "- Clients: colleges\n",
    "- Analytics models: regression\n",
    "- Datasets: 1,2\n",
    "\n",
    "Colleges (and programs within colleges) compete along many dimensions, the most important reflecting the monetary outcomes of their graduates. There are different data that fit this purpose and can be conveniently sold to colleges.\n",
    "Like many of the other STEM programs, the MS in Analytics at Georgia Tech thrives off of the large return on investment pocketed by its graduates. In economics, estimating the returns to college is a standalone line of research that deals with assessing the net impact of college on earnings once pre-college characteristics (e.g. socio-economic status, intelligence, etc.) have been accounted for. Complex econometrics models have been deployed by economists and the academic debate still goes strong. We will leave these complications aside and lay out a simple example.\n",
    "Are MSA graduates doing well financially because of the MSA degree itself or are they doing so because of their intrinsic characteristics (e.g. intelligence, motivation, etc.)? This is known in statistics as endogeneity problem. For sure, endogeneity little concerns the Treasury people at Georgia Tech; they are pretty happy with the outcomes of the MSA students and proudly advertise the post-graduation earnings of its graduates. However, faculties at the MSA are well-aware of the possible sources of endogeneity and are much more interested in the net ROI of the program (i.e. the lifetime returns net of the effect of pre-program characteristics). This figure would help them assess the value-added of the program against alternative choices that students might take, and help them figure out whether current levels of tuition fees are just fine, too high, or too low.\n",
    "The methodology that we suggest would use a subsample of individuals who never defaulted on their payments and are therefore deemed to be in good financial standing (data set 2). Excluding defaulters is necessary in order to keep the model simple enough. Then, using the same data set 2, monthly payments can be used as a proxy for income – a wide literature in economics backs this implementation – and a wage equation can be estimated using control variables in data sets 1 and 2 (e.g. marital status, number of children, etc.). The key explanatory variable for the model is MSA degree, and the associated regression coefficient provides an estimate of the ROI. Although not perfect, this is a good starting point to assess the net benefits of getting a MSA, and can inform the decision-making process of the faculties."
   ]
  },
  {
   "cell_type": "markdown",
   "metadata": {},
   "source": [
    "### Example 7\n",
    "\n",
    "- Type: credit rating\n",
    "- Application: banking sector\n",
    "- Clients: banks\n",
    "- Analytics models: logistic regression, other classification models (e.g. SVM, KNN, etc.)\n",
    "- Datasets: 2\n",
    "\n",
    "Clearly, banks want to lend money to individuals who are likely to repay. At the same time, they do not want to be overly restrictive because more borrowers mean greater interests accruing to the bank. For this reason, setting the decision threshold just right is crucial and should be accomplished using a confusion matrix. Whichever analytics model that classify observations might be used, therefore logistic regression, SVM, and KNN are all legitimate options (and there are more).\n",
    "How can a credit score be created based on the available data? We can use data on defaults from data set 2, and model them as a function of the individual characteristics which are considered to be predictive of the outcome (e.g. sex, age, etc.). The model will be validated on a test set, and the cutoff that maximizes the expected revenues determined based on the cost of a false positive."
   ]
  }
 ],
 "metadata": {
  "kernelspec": {
   "display_name": "Python 3",
   "language": "python",
   "name": "python3"
  },
  "language_info": {
   "codemirror_mode": {
    "name": "ipython",
    "version": 3
   },
   "file_extension": ".py",
   "mimetype": "text/x-python",
   "name": "python",
   "nbconvert_exporter": "python",
   "pygments_lexer": "ipython3",
   "version": "3.7.4"
  }
 },
 "nbformat": 4,
 "nbformat_minor": 2
}
